{
 "cells": [
  {
   "cell_type": "markdown",
   "metadata": {},
   "source": [
    "# Reliability/adverse events simulation\n",
    "\n",
    "This notebook creates a data set that simulates treatment length dependent adverse effects (TLAEs). In general, most adverse effects are constant over time, and may even slightly decrease with time since treatment start. However, some (e.g. myelosuppression, agranulocytosis, accumulation, PML for neuroimmunosuppressants) increase at a critical time. \n",
    "\n",
    "This code creates a data set that shows five adverse effects with three different behaviours:\n",
    "\n",
    "* constant incidence (follows a scaled Weibull distribution):\n",
    "    - redness/swelling at injection site\n",
    "    - nausea/vomiting\n",
    "    - headache\n",
    "* constant-differential incidence (follows a $\\beta$ distribution):\n",
    "    - leukopaenia (low WBC)\n",
    "* outlier incidence (steady, then rapidly rising, then steady again):\n",
    "    - encephalopathy\n",
    "    \n",
    "The data set shows treatment weeks (`TW`), condition (`sfx`) and incidence of the side effect per 1,000 patients (`incidence`) for a follow-up of 250 weeks."
   ]
  },
  {
   "cell_type": "code",
   "execution_count": 1,
   "metadata": {},
   "outputs": [],
   "source": [
    "import random\n",
    "import numpy as np\n",
    "import pandas as pd\n",
    "from scipy import stats\n",
    "from matplotlib import pyplot as plt\n",
    "import seaborn as sns"
   ]
  },
  {
   "cell_type": "code",
   "execution_count": 2,
   "metadata": {},
   "outputs": [],
   "source": [
    "tw = pd.Series(range(1, 250))"
   ]
  },
  {
   "cell_type": "code",
   "execution_count": 3,
   "metadata": {},
   "outputs": [],
   "source": [
    "redness_swelling = pd.Series(np.random.weibull(0.8, size=250))\n",
    "n_v = pd.Series(0.8 * np.random.weibull(1.2, size=250))\n",
    "headache = pd.Series(0.6 * np.random.weibull(2, size=250))\n",
    "leukopaenia = pd.Series(0.1 * (np.random.standard_exponential(250)**2))\n",
    "encephalopathy = pd.Series((50 * (np.random.beta(5, 2)) * stats.norm.pdf(\n",
    "    np.arange(1, 251, 1), 100, 6)) + 0.03 * np.random.uniform(0, 10, 250))"
   ]
  },
  {
   "cell_type": "code",
   "execution_count": 4,
   "metadata": {},
   "outputs": [],
   "source": [
    "df = pd.DataFrame(data = [redness_swelling, n_v, headache, leukopaenia, encephalopathy]).T"
   ]
  },
  {
   "cell_type": "code",
   "execution_count": 5,
   "metadata": {},
   "outputs": [],
   "source": [
    "df.columns = [\"redness_swelling\", \"nausea_vomiting\", \"headache\", \"leukopaenia\", \"encephalopathy\"]\n",
    "df[\"TW\"] = df.index"
   ]
  },
  {
   "cell_type": "code",
   "execution_count": 6,
   "metadata": {},
   "outputs": [],
   "source": [
    "df.melt(id_vars=(\"TW\"),\n",
    "        value_name=\"incidence\", var_name=\"sfx\").to_csv(\"reliability-adverse-events.csv\")"
   ]
  }
 ],
 "metadata": {
  "kernelspec": {
   "display_name": "Python 3",
   "language": "python",
   "name": "python3"
  },
  "language_info": {
   "codemirror_mode": {
    "name": "ipython",
    "version": 3
   },
   "file_extension": ".py",
   "mimetype": "text/x-python",
   "name": "python",
   "nbconvert_exporter": "python",
   "pygments_lexer": "ipython3",
   "version": "3.7.5"
  },
  "toc": {
   "base_numbering": 1,
   "nav_menu": {},
   "number_sections": true,
   "sideBar": true,
   "skip_h1_title": false,
   "title_cell": "Table of Contents",
   "title_sidebar": "Contents",
   "toc_cell": false,
   "toc_position": {},
   "toc_section_display": true,
   "toc_window_display": false
  }
 },
 "nbformat": 4,
 "nbformat_minor": 4
}
